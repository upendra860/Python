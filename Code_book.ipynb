{
 "cells": [
  {
   "cell_type": "markdown",
   "id": "cf725c34",
   "metadata": {},
   "source": [
    "## Table of Contents:\n",
    "* [Read from a file](#first-bullet)\n",
    "* [Export to a file](#export)\n",
    "* [Visualize data](#second-bullet)\n",
    "* [Data type Conversion](#third-bullet)\n",
    "* [Data Operations](#fourth-bullet)\n",
    "* [Joins](#Joins)\n",
    "* [Variable Selection](#fifth-bullet)\n"
   ]
  },
  {
   "cell_type": "markdown",
   "id": "8d272924",
   "metadata": {},
   "source": [
    "### Import statements"
   ]
  },
  {
   "cell_type": "code",
   "execution_count": 30,
   "id": "4cb44347",
   "metadata": {},
   "outputs": [],
   "source": [
    "import pandas as pd\n",
    "import numpy as np\n",
    "import glob\n",
    "import os"
   ]
  },
  {
   "cell_type": "markdown",
   "id": "7da86145",
   "metadata": {},
   "source": [
    "## Read from a file <a class=\"anchor\" id=\"first-bullet\"></a>"
   ]
  },
  {
   "cell_type": "code",
   "execution_count": 43,
   "id": "584c8868",
   "metadata": {},
   "outputs": [],
   "source": [
    "#> To read data from a local csv file\n",
    "#df = pd.read_csv(r'C:\\Users\\Lenovo\\Documents\\Study\\Data\\LCdata_27variables\\lending_club_loan_two.csv')\n",
    "\n",
    "#raw_df = pd.read_csv(r'C:\\Users\\Lenovo\\Documents\\Study\\Data\\LCdata_2007_2011\\loan.csv')\n",
    "\n",
    "#> Read csv from current location\n",
    "#covid = pd.read_csv('covid_19_clean_complete.csv')\n",
    "\n",
    "#> Read csv file in an url\n",
    "#data = pd.read_csv(r\"https://raw.githubusercontent.com/madmashup/targeted-marketing-predictive-engine/master/banking.csv\")\n",
    "\n",
    "#> read sas dataset\n",
    "#sas_data = pd.read_sas(r'C:\\Users\\Lenovo\\Documents\\Study\\Data\\Credit Risk Modeling in SAS by brown\\Chapter 3\\KGB.sas7bdat')\n",
    "\n",
    "#> df is user defined data frame name.\n",
    "#> r charecter is placed before the file path to to take care of any symbols within the path name, such as the backslash symbol). Otherwise, you’ll get the esrror.\n",
    "#> Python raw string is created by prefixing a string literal with ‘r’ or ‘R’. Python raw string treats backslash (\\) as a literal character. This is useful when we want to have a string that contains backslash and don’t want it to be treated as an escape character.\n"
   ]
  },
  {
   "cell_type": "markdown",
   "id": "3b9a30f6",
   "metadata": {},
   "source": [
    "When you need to read data from multiple files and append all of them horizontally."
   ]
  },
  {
   "cell_type": "code",
   "execution_count": null,
   "id": "b55b1084",
   "metadata": {},
   "outputs": [],
   "source": [
    "## Since we have data in different files, we need to combine all the rows. \n",
    "## Below joins file path with file names using wild charecter \n",
    "#file_path = os.path.join(r\"C:\\Users\\Lenovo\\Downloads\\Intraday 1 Min Data Sep2021\\Intraday 1 Min Data\\Intraday 1 Min Data\\2021\", \"*NIFTY.txt\")\n",
    "\n",
    "## Lists all the file paths\n",
    "#file_list = glob.glob(file_path)\n",
    "\n",
    "## Since we do not have header in the files, we need to use function in order to be able to create headers and use in map function\n",
    "#def f(i):\n",
    "#    return pd.read_csv(i, names = ['Index','Date','Time','Open','High','Low','Close','c1','c2'])\n",
    "\n",
    "## appends all the data horizontally\n",
    "#dfj = pd.concat(map(f, file_list))"
   ]
  },
  {
   "cell_type": "markdown",
   "id": "0da78cfe",
   "metadata": {},
   "source": [
    "### Export to a file <a class=\"anchor\" id=\"export\"></a>"
   ]
  },
  {
   "cell_type": "code",
   "execution_count": 28,
   "id": "b21d71dd",
   "metadata": {},
   "outputs": [],
   "source": [
    "#> index=False is required to remove the index column. \n",
    "#sas_data.to_csv(r'C:\\Users\\Lenovo\\Documents\\Python\\KGB_data.csv', index=False)"
   ]
  },
  {
   "cell_type": "markdown",
   "id": "5358ee86",
   "metadata": {},
   "source": [
    "## Visualize the data <a class=\"anchor\" id=\"second-bullet\"></a>"
   ]
  },
  {
   "cell_type": "code",
   "execution_count": 25,
   "id": "249e9c37",
   "metadata": {
    "scrolled": true
   },
   "outputs": [],
   "source": [
    "#> To show first 5 rows of a data frame\n",
    "#df.head()\n",
    "#covid.head()\n",
    "\n",
    "#> To show last 5 rows of a data frame\n",
    "#sas_data.tail()"
   ]
  },
  {
   "cell_type": "code",
   "execution_count": 27,
   "id": "cb8108a8",
   "metadata": {},
   "outputs": [],
   "source": [
    "#> To see the information of each column header and respective data type (if columns are less otherwise summary is shown)\n",
    "#df.info()\n",
    "#raw_df.info()\n",
    "#covid.info()"
   ]
  },
  {
   "cell_type": "markdown",
   "id": "7c86e1ff",
   "metadata": {},
   "source": [
    "Data types"
   ]
  },
  {
   "cell_type": "code",
   "execution_count": 6,
   "id": "1a4b19f9",
   "metadata": {
    "scrolled": true
   },
   "outputs": [],
   "source": [
    "#> see data types of all columns\n",
    "#df.dtypes\n",
    "\n",
    "#> to see the data type of selected columns\n",
    "#raw_df['dti'].dtypes\n",
    "\n",
    "#> below for showing unique values of a column also shows the data type of selected column at the end\n",
    "#raw_df.int_rate.unique()"
   ]
  },
  {
   "cell_type": "markdown",
   "id": "f396083d",
   "metadata": {},
   "source": [
    "### Summary statistics"
   ]
  },
  {
   "cell_type": "code",
   "execution_count": 14,
   "id": "ed00eb91",
   "metadata": {},
   "outputs": [],
   "source": [
    "#> To show summary statistics of all columns in a data frame\n",
    "#df.describe()\n",
    "\n",
    "#> To show summary statistics of a specific column in a data frame\n",
    "#df['int_rate'].describe()"
   ]
  },
  {
   "cell_type": "markdown",
   "id": "d4dce008",
   "metadata": {},
   "source": [
    "To see count / frequency of each values in a column"
   ]
  },
  {
   "cell_type": "code",
   "execution_count": null,
   "id": "21551671",
   "metadata": {},
   "outputs": [],
   "source": [
    "#df['home_ownership'].value_counts()\n",
    "#> OR\n",
    "#df.home_ownership.value_counts()"
   ]
  },
  {
   "cell_type": "markdown",
   "id": "a7d5d036",
   "metadata": {},
   "source": [
    "To see unique values of all columns of a dataframe"
   ]
  },
  {
   "cell_type": "code",
   "execution_count": null,
   "id": "21a0e049",
   "metadata": {},
   "outputs": [],
   "source": [
    "#print(df.apply(lambda col: col.unique()))"
   ]
  },
  {
   "cell_type": "markdown",
   "id": "7c6b3ad0",
   "metadata": {},
   "source": [
    "To see frequency of values of a column (loan_status) within a selected values of other column"
   ]
  },
  {
   "cell_type": "code",
   "execution_count": 26,
   "id": "7de244f8",
   "metadata": {},
   "outputs": [],
   "source": [
    "#df.groupby('loan_status').mean()\n",
    "\n",
    "#df.loc[df['home_ownership']=='RENT', 'loan_status'].value_counts()\n",
    "#df.loc[df.annual_inc >= 1000000, 'loan_status'].value_counts()"
   ]
  },
  {
   "cell_type": "markdown",
   "id": "75e73ded",
   "metadata": {},
   "source": [
    "To see unique values of a column"
   ]
  },
  {
   "cell_type": "code",
   "execution_count": 4,
   "id": "cbd875f9",
   "metadata": {},
   "outputs": [],
   "source": [
    "#raw_df.home_ownership.unique()"
   ]
  },
  {
   "cell_type": "markdown",
   "id": "a193a4e7",
   "metadata": {},
   "source": [
    "Correlation matrix"
   ]
  },
  {
   "cell_type": "code",
   "execution_count": null,
   "id": "e9125ea8",
   "metadata": {},
   "outputs": [],
   "source": [
    "#plt.figure(figsize=(12, 8))\n",
    "#seaborn.heatmap(df.corr(), annot=True, cmap='viridis')"
   ]
  },
  {
   "cell_type": "markdown",
   "id": "d07976e6",
   "metadata": {},
   "source": [
    "### Null values"
   ]
  },
  {
   "cell_type": "code",
   "execution_count": 29,
   "id": "f0c2cc86",
   "metadata": {},
   "outputs": [],
   "source": [
    "#> To see the count of NA in a column\n",
    "#df.emp_title.isna().sum()\n",
    "\n",
    "#> Drop null value records from data\n",
    "#df.dropna()"
   ]
  },
  {
   "cell_type": "markdown",
   "id": "eaa2a31c",
   "metadata": {},
   "source": [
    "## Data type Conversion <a class=\"anchor\" id=\"third-bullet\"></a>"
   ]
  },
  {
   "cell_type": "markdown",
   "id": "2902dfed",
   "metadata": {},
   "source": [
    "To numeric"
   ]
  },
  {
   "cell_type": "code",
   "execution_count": 42,
   "id": "e6618b7d",
   "metadata": {},
   "outputs": [],
   "source": [
    "#> We have percentage values in a column which are read as object type. We need to change it to numeric type to perform any numerical operations.\n",
    "\n",
    "#> Example1\n",
    "#> smaple series\n",
    "#s = pd.Series(['10%', '50.3%', '60%', '1.343%'])\n",
    "\n",
    "#> remove % at the end of string\n",
    "#s = s.str.rstrip('%')\n",
    "\n",
    "#> convert string/object to numeric\n",
    "#s = pd.to_numeric(s)"
   ]
  },
  {
   "cell_type": "code",
   "execution_count": 41,
   "id": "897a1c07",
   "metadata": {},
   "outputs": [],
   "source": [
    "#> Example2\n",
    "\n",
    "#> Observe the values and data type\n",
    "#raw_df.int_rate.unique()\n",
    "\n",
    "#raw_df['int_rate'] = raw_df['int_rate'].str.rstrip('%')\n",
    "\n",
    "#raw_df['int_rate'] = pd.to_numeric(raw_df['int_rate'])\n",
    "\n",
    "#raw_df['int_rate'].dtypes"
   ]
  },
  {
   "cell_type": "markdown",
   "id": "ae7b0090",
   "metadata": {},
   "source": [
    "To datetime"
   ]
  },
  {
   "cell_type": "code",
   "execution_count": null,
   "id": "59615efa",
   "metadata": {},
   "outputs": [],
   "source": [
    "## You have date column df['date'] = 01312021 ...\n",
    "## You need to conver it to date as\n",
    "#df['date'] = pd.to_datetime(df['date'], '%m%d%Y')\n",
    "\n",
    "## You have date column df['date'] = 31-01-21 ...\n",
    "## You need to conver it to date as\n",
    "#df['date'] = pd.to_datetime(df['date'], '%d-%m-%y')\n",
    "\n",
    "\n",
    "## you have a time column df['time'] = 9:30\n",
    "#df['time'] = pd.datetime(df['time'], %H:%M)"
   ]
  },
  {
   "cell_type": "code",
   "execution_count": null,
   "id": "73cf9317",
   "metadata": {},
   "outputs": [],
   "source": [
    "Input fuction"
   ]
  },
  {
   "cell_type": "code",
   "execution_count": null,
   "id": "742d1f5b",
   "metadata": {},
   "outputs": [],
   "source": [
    "## Is used to read input from user while code execution\n",
    "#x = int(input(\"Enter interval width in minutes: \"))\n",
    "## Input function always return string type therefore we need toconver it to numeric to perform any numerical operations."
   ]
  },
  {
   "cell_type": "markdown",
   "id": "47558bd3",
   "metadata": {},
   "source": [
    "## Data Operations <a class=\"anchor\" id=\"fourth-bullet\"></a>"
   ]
  },
  {
   "cell_type": "markdown",
   "id": "adeba166",
   "metadata": {},
   "source": [
    "Concatnate two columns"
   ]
  },
  {
   "cell_type": "code",
   "execution_count": null,
   "id": "c5bcc1d9",
   "metadata": {},
   "outputs": [],
   "source": [
    "#dfj['date_time'] = dfj['Date'].astype(str)+\" \"+dfj['Time']\n",
    "## Since date is not a string type (ineger in this case), we first need to conver it into string in order to add to another string"
   ]
  },
  {
   "cell_type": "markdown",
   "id": "46fc0a26",
   "metadata": {},
   "source": [
    "Reset Index"
   ]
  },
  {
   "cell_type": "code",
   "execution_count": null,
   "id": "ecd2ced9",
   "metadata": {},
   "outputs": [],
   "source": [
    "## Reset index from 0 to length of the data frame\n",
    "#dfi = dfj.reset_index()\n",
    "\n",
    "## Since old index is converted into a column with 'index' as column name, we have to derop it.\n",
    "#dfd = dfi.drop(['index'], axis = 1)"
   ]
  },
  {
   "cell_type": "markdown",
   "id": "8833d1e2",
   "metadata": {},
   "source": [
    "Drop columns"
   ]
  },
  {
   "cell_type": "code",
   "execution_count": null,
   "id": "3b649339",
   "metadata": {},
   "outputs": [],
   "source": [
    "## Drop unnecessary columns\n",
    "#dfj = dfj.drop(['c1','c2','date_time','Time','Index'], axis=1)"
   ]
  },
  {
   "cell_type": "markdown",
   "id": "890f3552",
   "metadata": {},
   "source": [
    "#### Joins <a class=\"anchor\" id=\"Joins\"></a>"
   ]
  },
  {
   "cell_type": "code",
   "execution_count": null,
   "id": "050d1bf5",
   "metadata": {},
   "outputs": [],
   "source": [
    "#> Use merge, which is an inner join by default:\n",
    "#pd.merge(df1, df2, left_index=True, right_index=True)\n",
    "\n",
    "#> Or join, which is a left join by default:\n",
    "#df1.join(df2)\n",
    "\n",
    "#> Or concat), which is an outer join by default:\n",
    "#pd.concat([df1, df2], axis=1)"
   ]
  },
  {
   "cell_type": "markdown",
   "id": "c1b5ec0c",
   "metadata": {},
   "source": [
    "Creating dummies"
   ]
  },
  {
   "cell_type": "code",
   "execution_count": null,
   "id": "bb059ac9",
   "metadata": {},
   "outputs": [],
   "source": [
    "#> creating dummies for gender\n",
    "#data['Gender'] = data['Gender'].map({'Male':0, 'Female':1})\n",
    "\n",
    "#> Creating dummy variables for all the categorical variables with categories 2 or more\n",
    "#df = pd.get_dummies(df, columns = dummies, drop_first=True)"
   ]
  },
  {
   "cell_type": "markdown",
   "id": "64ef4df7",
   "metadata": {},
   "source": [
    "#### Variable Selection <a class=\"anchor\" id=\"fifth-bullet\"></a>"
   ]
  },
  {
   "cell_type": "markdown",
   "id": "31f70c26",
   "metadata": {},
   "source": [
    "VIF: Variable Inflation Factor to check multi-colliearity; VIF = 1/(1-sqr(R)) should be less than 5"
   ]
  },
  {
   "cell_type": "code",
   "execution_count": null,
   "id": "0bd40a56",
   "metadata": {},
   "outputs": [],
   "source": [
    "from statsmodels.stats.outliers_influence import variance_inflation_factor\n",
    "#> First creste dummies for categorical variables\n",
    "#> VIF dataframe\n",
    "vif_data = pd.DataFrame()\n",
    "vif_data[\"feature\"] = df.columns\n",
    "  \n",
    "#> calculating VIF for each feature\n",
    "vif_data[\"VIF\"] = [variance_inflation_factor(df.values, i)\n",
    "                          for i in range(len(df.columns))]\n",
    "  \n",
    "print(vif_data)\n",
    "#> this create a dataframe with 2 columns 'features' and 'VIF'."
   ]
  }
 ],
 "metadata": {
  "kernelspec": {
   "display_name": "Python 3 (ipykernel)",
   "language": "python",
   "name": "python3"
  },
  "language_info": {
   "codemirror_mode": {
    "name": "ipython",
    "version": 3
   },
   "file_extension": ".py",
   "mimetype": "text/x-python",
   "name": "python",
   "nbconvert_exporter": "python",
   "pygments_lexer": "ipython3",
   "version": "3.9.7"
  }
 },
 "nbformat": 4,
 "nbformat_minor": 5
}
